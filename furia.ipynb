{
 "cells": [
  {
   "metadata": {},
   "cell_type": "markdown",
   "source": "# Imports",
   "id": "333ceab9fded3ad8"
  },
  {
   "metadata": {},
   "cell_type": "code",
   "source": [
    "# import helper packages\n",
    "import os\n",
    "import numpy as np\n",
    "import pandas as pd\n",
    "import pprint\n",
    "import json\n",
    "from box import Box\n",
    "from IPython.display import display, Markdown\n",
    "import requests\n",
    "import json\n",
    "from io import BytesIO\n",
    "from zipfile import ZipFile"
   ],
   "id": "a93df5f438c1f11",
   "outputs": [],
   "execution_count": null
  },
  {
   "metadata": {},
   "cell_type": "markdown",
   "source": "# Query em todas as séries jogadas pela Furia no último split",
   "id": "9b17e6aa84897a53"
  },
  {
   "cell_type": "code",
   "id": "3de6664a",
   "metadata": {},
   "source": [
    "import requests\n",
    "\n",
    "# URL do endpoint GraphQL da GRID\n",
    "url = \"https://api.grid.gg/central-data/graphql\"  # Substitua se for diferente\n",
    "\n",
    "# Sua chave de API\n",
    "api_key = \"lICijUpW2PJ9BMn0CmZnYGywRIxmuB0ySrXBN0Cs\"\n",
    "\n",
    "# Cabeçalhos\n",
    "headers = {\n",
    "    \"x-api-key\": api_key,\n",
    "    \"Content-Type\": \"application/json\"\n",
    "}\n",
    "\n",
    "# Query GraphQL\n",
    "query = \"\"\"\n",
    "query AllSeries {\n",
    "    allSeries(\n",
    "        orderBy: StartTimeScheduled\n",
    "        orderDirection: DESC\n",
    "        filter: { teamId: \"54533\", titleId: \"6\" }\n",
    "        last: 11\n",
    "    ) {\n",
    "        edges {\n",
    "            node {\n",
    "                id\n",
    "            }\n",
    "        }\n",
    "    }\n",
    "}\n",
    "\"\"\"\n",
    "\n",
    "# Corpo da requisição\n",
    "payload = {\n",
    "    \"query\": query\n",
    "}\n",
    "\n",
    "# Fazendo a requisição\n",
    "response = requests.post(url, headers=headers, json=payload)\n",
    "\n",
    "# Tratando a resposta\n",
    "if response.status_code == 200:\n",
    "    data = response.json()\n",
    "\n",
    "    # Extração dos IDs\n",
    "    try:\n",
    "        edges = data['data']['allSeries']['edges']\n",
    "        id_list = [edge['node']['id'] for edge in edges]\n",
    "        print(\"Lista de IDs extraída:\")\n",
    "        print(id_list)\n",
    "    except (KeyError, TypeError) as e:\n",
    "        print(f\"Erro ao extrair IDs: {e}\")\n",
    "else:\n",
    "    print(f\"Erro {response.status_code}: {response.text}\")\n"
   ],
   "outputs": [],
   "execution_count": null
  },
  {
   "metadata": {},
   "cell_type": "markdown",
   "source": "# Baixando Grid Post Series State",
   "id": "c2fcd004818c7183"
  },
  {
   "metadata": {},
   "cell_type": "code",
   "source": [
    "for item in id_list:\n",
    "    url = f\"https://api.grid.gg/file-download/end-state/grid/series/{item}?key={api_key}\"\n",
    "    response = requests.get(url)\n",
    "    if response.status_code == 200:\n",
    "        filename = f\"{item}.json\"\n",
    "        with open(filename, \"wb\") as file:\n",
    "            file.write(response.content)\n",
    "        print(\"Arquivo baixado com sucesso.\")\n",
    "    else:\n",
    "        print(f\"Falha ao baixar o arquivo: {item} - {response.status_code}: {response.text}\")"
   ],
   "id": "4cd8247a82acb953",
   "outputs": [],
   "execution_count": null
  },
  {
   "metadata": {},
   "cell_type": "markdown",
   "source": "# Baixando Grid Series Event\n",
   "id": "e46ac716700d627a"
  },
  {
   "metadata": {},
   "cell_type": "code",
   "source": [
    "for item in id_list:\n",
    "    url = f\"https://api.grid.gg/file-download/events/grid/series/{item}?key={api_key}\"\n",
    "    response = requests.get(url)\n",
    "    if response.status_code == 200:\n",
    "        filename = f\"{item}.zip\"\n",
    "        with open(filename, \"wb\") as file:\n",
    "            file.write(response.content)\n",
    "        print(\"Arquivo baixado com sucesso.\")\n",
    "    else:\n",
    "        print(f\"Falha ao baixar o arquivo: {item} - {response.status_code}: {response.text}\")"
   ],
   "id": "1f70b15ac2721ab1",
   "outputs": [],
   "execution_count": null
  },
  {
   "metadata": {},
   "cell_type": "markdown",
   "source": "# Baixando Riot live Stats",
   "id": "9c82f0ef2e1764e0"
  },
  {
   "metadata": {},
   "cell_type": "code",
   "outputs": [],
   "execution_count": null,
   "source": [
    "for item in id_list:\n",
    "    url = f\"https://api.grid.gg/file-download/events/riot/series/{item}?key={api_key}\"\n",
    "    response = requests.get(url)\n",
    "    if response.status_code == 200:\n",
    "        filename = f\"{item}.zip\"\n",
    "        with open(filename, \"wb\") as file:\n",
    "            file.write(response.content)\n",
    "        print(\"Arquivo baixado com sucesso.\")\n",
    "    else:\n",
    "        print(f\"Falha ao baixar o arquivo: {item} - {response.status_code}: {response.text}\")"
   ],
   "id": "79a73ffd301c9e3d"
  },
  {
   "metadata": {},
   "cell_type": "markdown",
   "source": "# Baixando Riot Game Agnostic Match History",
   "id": "c74791ce45c2fcaf"
  },
  {
   "metadata": {
    "ExecuteTime": {
     "end_time": "2025-06-04T22:41:18.213604Z",
     "start_time": "2025-06-04T22:41:01.567682Z"
    }
   },
   "cell_type": "code",
   "source": [
    "for item in id_list:\n",
    "    url = f\"https://api.grid.gg/file-download/end-state/riot/series/{item}?key={api_key}\"\n",
    "    response = requests.get(url)\n",
    "    if response.status_code == 200:\n",
    "        filename = f\"{item}.zip\"\n",
    "        with open(filename, \"wb\") as file:\n",
    "            file.write(response.content)\n",
    "        print(\"Arquivo baixado com sucesso.\")\n",
    "    else:\n",
    "        print(f\"Falha ao baixar o arquivo: {item} - {response.status_code}: {response.text}\")"
   ],
   "id": "e5cd76a73c6d072b",
   "outputs": [
    {
     "name": "stdout",
     "output_type": "stream",
     "text": [
      "Arquivo baixado com sucesso.\n",
      "Arquivo baixado com sucesso.\n",
      "Arquivo baixado com sucesso.\n",
      "Arquivo baixado com sucesso.\n",
      "Arquivo baixado com sucesso.\n",
      "Arquivo baixado com sucesso.\n",
      "Arquivo baixado com sucesso.\n",
      "Arquivo baixado com sucesso.\n",
      "Arquivo baixado com sucesso.\n",
      "Arquivo baixado com sucesso.\n",
      "Arquivo baixado com sucesso.\n"
     ]
    }
   ],
   "execution_count": 22
  },
  {
   "metadata": {},
   "cell_type": "code",
   "source": [
    "import os\n",
    "import json\n",
    "from box import Box\n",
    "import pprint\n",
    "\n",
    "# constante\n",
    "GRID_ID = id_list[0]\n",
    "\n",
    "# caminho do arquivo\n",
    "path = os.getcwd()\n",
    "data_file = os.path.join(path, f'events_{GRID_ID}_riot.jsonl')\n",
    "\n",
    "grid_data = []\n",
    "\n",
    "# ler arquivo .jsonl linha por linha\n",
    "with open(data_file) as f:\n",
    "    for line in f:\n",
    "        obj = json.loads(line)\n",
    "        grid_data.append(Box(obj))  # se quiser Box, ou só append(obj)\n",
    "\n",
    "# setup pretty print\n",
    "pp = pprint.PrettyPrinter(indent=2)\n",
    "\n",
    "# Exemplo: print o primeiro objeto"
   ],
   "id": "55b996a705c6882f",
   "outputs": [],
   "execution_count": null
  },
  {
   "metadata": {},
   "cell_type": "code",
   "source": [
    "import pandas as pd\n",
    "\n",
    "# Se grid_data for lista de Box, transforma para dict\n",
    "data_as_dicts = [dict(item) for item in grid_data]\n",
    "\n",
    "# Cria o DataFrame\n",
    "df = pd.DataFrame(data_as_dicts)\n",
    "\n",
    "# Mostra as primeiras linhas\n",
    "print(df.info())"
   ],
   "id": "d3ac89594ceca215",
   "outputs": [],
   "execution_count": null
  }
 ],
 "metadata": {
  "kernelspec": {
   "display_name": "base",
   "language": "python",
   "name": "python3"
  },
  "language_info": {
   "codemirror_mode": {
    "name": "ipython",
    "version": 3
   },
   "file_extension": ".py",
   "mimetype": "text/x-python",
   "name": "python",
   "nbconvert_exporter": "python",
   "pygments_lexer": "ipython3",
   "version": "3.12.4"
  }
 },
 "nbformat": 4,
 "nbformat_minor": 5
}
